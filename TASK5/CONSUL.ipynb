{
 "cells": [
  {
   "cell_type": "code",
   "execution_count": 1,
   "metadata": {},
   "outputs": [],
   "source": [
    "import consul\n",
    "\n",
    "\n",
    "consul_client = consul.Consul(host='localhost', port=8500)\n"
   ]
  },
  {
   "cell_type": "code",
   "execution_count": 12,
   "metadata": {},
   "outputs": [
    {
     "name": "stdout",
     "output_type": "stream",
     "text": [
      "('76', [{'ID': 'eb219026-c808-0b4d-cb7f-ff0078789c29', 'Node': 'catalina.local', 'Address': '127.0.0.1', 'Datacenter': 'dc1', 'TaggedAddresses': {'lan': '127.0.0.1', 'lan_ipv4': '127.0.0.1', 'wan': '127.0.0.1', 'wan_ipv4': '127.0.0.1'}, 'NodeMeta': {'consul-network-segment': '', 'consul-version': '1.19.0'}, 'ServiceKind': '', 'ServiceID': 'facade', 'ServiceName': 'facade', 'ServiceTags': [], 'ServiceAddress': '', 'ServiceWeights': {'Passing': 1, 'Warning': 1}, 'ServiceMeta': {}, 'ServicePort': 0, 'ServiceSocketPath': '', 'ServiceEnableTagOverride': False, 'ServiceProxy': {'Mode': '', 'MeshGateway': {}, 'Expose': {}}, 'ServiceConnect': {}, 'ServiceLocality': None, 'CreateIndex': 76, 'ModifyIndex': 76}])\n"
     ]
    },
    {
     "ename": "TypeError",
     "evalue": "string indices must be integers, not 'str'",
     "output_type": "error",
     "traceback": [
      "\u001b[0;31m---------------------------------------------------------------------------\u001b[0m",
      "\u001b[0;31mTypeError\u001b[0m                                 Traceback (most recent call last)",
      "Cell \u001b[0;32mIn[12], line 12\u001b[0m\n\u001b[1;32m      9\u001b[0m     port \u001b[38;5;241m=\u001b[39m service[\u001b[38;5;124m'\u001b[39m\u001b[38;5;124mServicePort\u001b[39m\u001b[38;5;124m'\u001b[39m]\n\u001b[1;32m     10\u001b[0m     \u001b[38;5;28;01mreturn\u001b[39;00m address, port\n\u001b[0;32m---> 12\u001b[0m logging_service_address, logging_service_port \u001b[38;5;241m=\u001b[39m \u001b[43mget_service_address\u001b[49m\u001b[43m(\u001b[49m\u001b[38;5;124;43m'\u001b[39;49m\u001b[38;5;124;43mfacade\u001b[39;49m\u001b[38;5;124;43m'\u001b[39;49m\u001b[43m)\u001b[49m\n\u001b[1;32m     13\u001b[0m \u001b[38;5;66;03m#messages_service_address, messages_service_port = get_service_address('message')\u001b[39;00m\n",
      "Cell \u001b[0;32mIn[12], line 8\u001b[0m, in \u001b[0;36mget_service_address\u001b[0;34m(service_name)\u001b[0m\n\u001b[1;32m      6\u001b[0m     \u001b[38;5;28;01mraise\u001b[39;00m \u001b[38;5;167;01mException\u001b[39;00m(\u001b[38;5;124mf\u001b[39m\u001b[38;5;124m'\u001b[39m\u001b[38;5;124mService \u001b[39m\u001b[38;5;132;01m{\u001b[39;00mservice_name\u001b[38;5;132;01m}\u001b[39;00m\u001b[38;5;124m not found in Consul\u001b[39m\u001b[38;5;124m'\u001b[39m)\n\u001b[1;32m      7\u001b[0m service \u001b[38;5;241m=\u001b[39m services[\u001b[38;5;241m0\u001b[39m]\n\u001b[0;32m----> 8\u001b[0m address \u001b[38;5;241m=\u001b[39m \u001b[43mservice\u001b[49m\u001b[43m[\u001b[49m\u001b[38;5;124;43m'\u001b[39;49m\u001b[38;5;124;43mServiceAddress\u001b[39;49m\u001b[38;5;124;43m'\u001b[39;49m\u001b[43m]\u001b[49m\n\u001b[1;32m      9\u001b[0m port \u001b[38;5;241m=\u001b[39m service[\u001b[38;5;124m'\u001b[39m\u001b[38;5;124mServicePort\u001b[39m\u001b[38;5;124m'\u001b[39m]\n\u001b[1;32m     10\u001b[0m \u001b[38;5;28;01mreturn\u001b[39;00m address, port\n",
      "\u001b[0;31mTypeError\u001b[0m: string indices must be integers, not 'str'"
     ]
    }
   ],
   "source": [
    "def get_service_address(service_name):\n",
    "    services = consul_client.catalog.service(service_name)\n",
    "    print(services)\n",
    "\n",
    "    if not services:\n",
    "        raise Exception(f'Service {service_name} not found in Consul')\n",
    "    service = services[0]\n",
    "    address = service['ServiceAddress']\n",
    "    port = service['ServicePort']\n",
    "    return address, port\n",
    "\n",
    "logging_service_address, logging_service_port = get_service_address('facade')\n",
    "#messages_service_address, messages_service_port = get_service_address('message')\n"
   ]
  },
  {
   "cell_type": "code",
   "execution_count": 11,
   "metadata": {},
   "outputs": [
    {
     "name": "stdout",
     "output_type": "stream",
     "text": [
      "Service facade-service registered with Consul\n",
      "Service logging-service registered with Consul\n",
      "Service logging-service registered with Consul\n",
      "Service logging-service registered with Consul\n",
      "Service messages-service registered with Consul\n",
      "Service messages-service registered with Consul\n"
     ]
    }
   ],
   "source": [
    "def register_service(service_name, service_id, service_address, service_port, tags=None):\n",
    "    consul_client = consul.Consul(host='localhost', port=8500)\n",
    "    consul_client.agent.service.register(\n",
    "        name=service_name,\n",
    "        service_id=service_id,\n",
    "        address=service_address,\n",
    "        port=service_port,\n",
    "        tags=tags or []\n",
    "    )\n",
    "    print(f'Service {service_name} registered with Consul')\n",
    "\n",
    "register_service(\n",
    "    service_name='facade-service',\n",
    "    service_id='facade-service-1',\n",
    "    service_address='127.0.0.1', \n",
    "    service_port=5000,  \n",
    "    tags=['web']\n",
    ")\n",
    "\n",
    "register_service(\n",
    "    service_name='logging-service',\n",
    "    service_id='logging-service-1',\n",
    "    service_address='127.0.0.1',  \n",
    "    service_port=5701, \n",
    "    tags=['logging']\n",
    ")\n",
    "register_service(\n",
    "    service_name='logging-service',\n",
    "    service_id='logging-service-2',\n",
    "    service_address='127.0.0.1',  \n",
    "    service_port=5702,  \n",
    "    tags=['logging']\n",
    ")\n",
    "\n",
    "register_service(\n",
    "    service_name='logging-service',\n",
    "    service_id='logging-service-3',\n",
    "    service_address='127.0.0.1', \n",
    "    service_port=5703,  \n",
    "    tags=['logging']\n",
    ")\n",
    "\n",
    "register_service(\n",
    "    service_name='messages-service',\n",
    "    service_id='messages-service-1',\n",
    "    service_address='127.0.0.1', \n",
    "    service_port=5001, \n",
    "    tags=['messaging']\n",
    ")\n",
    "\n",
    "register_service(\n",
    "    service_name='messages-service',\n",
    "    service_id='messages-service-2',\n",
    "    service_address='127.0.0.1',  \n",
    "    service_port=5002, \n",
    "    tags=['messaging']\n",
    ")"
   ]
  },
  {
   "cell_type": "code",
   "execution_count": 43,
   "metadata": {},
   "outputs": [
    {
     "name": "stdout",
     "output_type": "stream",
     "text": [
      "Service flask-get registered with Consul\n",
      "Service flask-post registered with Consul\n"
     ]
    }
   ],
   "source": [
    "def register_service(service_name, service_id, service_address, service_port, tags=None):\n",
    "    consul_client = consul.Consul(host='localhost', port=8500)\n",
    "    consul_client.agent.service.register(\n",
    "        name=service_name,\n",
    "        service_id=service_id,\n",
    "        address=service_address,\n",
    "        port=service_port,\n",
    "        tags=tags or []\n",
    "    )\n",
    "    print(f'Service {service_name} registered with Consul')\n",
    "\n",
    "register_service(\n",
    "    service_name='flask-get',\n",
    "    service_id='flask-get',\n",
    "    service_address='',  \n",
    "    service_port=5010, \n",
    "    tags=['app'])\n",
    "\n",
    "register_service(\n",
    "    service_name='flask-post',\n",
    "    service_id='flask-get',\n",
    "    service_address='',  \n",
    "    service_port=5015, \n",
    "    tags=['app'])"
   ]
  },
  {
   "cell_type": "code",
   "execution_count": 14,
   "metadata": {},
   "outputs": [],
   "source": [
    "def get_service_address(service_name):\n",
    "    services = consul_client.catalog.service(service_name)[1]\n",
    "    if not services:\n",
    "        raise Exception(f'Service {service_name} not found in Consul')\n",
    "    service = services[0]\n",
    "    address = service['ServiceAddress']\n",
    "    port = service['ServicePort']\n",
    "    return address, port"
   ]
  },
  {
   "cell_type": "code",
   "execution_count": 41,
   "metadata": {},
   "outputs": [
    {
     "data": {
      "text/plain": [
       "('', 8300)"
      ]
     },
     "execution_count": 41,
     "metadata": {},
     "output_type": "execute_result"
    }
   ],
   "source": [
    "get_service_address(\"consul\")"
   ]
  },
  {
   "cell_type": "code",
   "execution_count": 15,
   "metadata": {},
   "outputs": [
    {
     "data": {
      "text/plain": [
       "('127.0.0.1', 5000)"
      ]
     },
     "execution_count": 15,
     "metadata": {},
     "output_type": "execute_result"
    }
   ],
   "source": [
    "get_service_address(\"facade-service\")"
   ]
  },
  {
   "cell_type": "code",
   "execution_count": 17,
   "metadata": {},
   "outputs": [
    {
     "data": {
      "text/plain": [
       "'127.0.0.1'"
      ]
     },
     "execution_count": 17,
     "metadata": {},
     "output_type": "execute_result"
    }
   ],
   "source": [
    "facade_ip = get_service_address(\"facade-service\")[0]\n",
    "facade_ip"
   ]
  },
  {
   "cell_type": "code",
   "execution_count": 18,
   "metadata": {},
   "outputs": [
    {
     "data": {
      "text/plain": [
       "5000"
      ]
     },
     "execution_count": 18,
     "metadata": {},
     "output_type": "execute_result"
    }
   ],
   "source": [
    "facade_port = get_service_address(\"facade-service\")[1]\n",
    "facade_port"
   ]
  },
  {
   "cell_type": "code",
   "execution_count": 19,
   "metadata": {},
   "outputs": [
    {
     "data": {
      "text/plain": [
       "('127.0.0.1', 5701)"
      ]
     },
     "execution_count": 19,
     "metadata": {},
     "output_type": "execute_result"
    }
   ],
   "source": [
    "get_service_address(\"logging-service\")\n",
    "get_service_address(\"logging-service\")\n",
    "get_service_address(\"logging-service\")\n"
   ]
  },
  {
   "cell_type": "code",
   "execution_count": 20,
   "metadata": {},
   "outputs": [
    {
     "data": {
      "text/plain": [
       "('127.0.0.1', 5701)"
      ]
     },
     "execution_count": 20,
     "metadata": {},
     "output_type": "execute_result"
    }
   ],
   "source": [
    "get_service_address(\"logging-service\")\n"
   ]
  },
  {
   "cell_type": "code",
   "execution_count": 21,
   "metadata": {},
   "outputs": [],
   "source": [
    "def get_service_address(service_name):\n",
    "    services = consul_client.catalog.service(service_name)[1]\n",
    "    if not services:\n",
    "        raise Exception(f'Service {service_name} not found in Consul')\n",
    "    service = services[0]\n",
    "    address = service['ServiceAddress']\n",
    "    port = service['ServicePort']\n",
    "    return address, port\n"
   ]
  },
  {
   "cell_type": "code",
   "execution_count": 23,
   "metadata": {},
   "outputs": [
    {
     "data": {
      "text/plain": [
       "('638',\n",
       " [{'ID': 'eb219026-c808-0b4d-cb7f-ff0078789c29',\n",
       "   'Node': 'catalina.local',\n",
       "   'Address': '127.0.0.1',\n",
       "   'Datacenter': 'dc1',\n",
       "   'TaggedAddresses': {'lan': '127.0.0.1',\n",
       "    'lan_ipv4': '127.0.0.1',\n",
       "    'wan': '127.0.0.1',\n",
       "    'wan_ipv4': '127.0.0.1'},\n",
       "   'NodeMeta': {'consul-network-segment': '', 'consul-version': '1.19.0'},\n",
       "   'ServiceKind': '',\n",
       "   'ServiceID': 'logging-service-1',\n",
       "   'ServiceName': 'logging-service',\n",
       "   'ServiceTags': ['logging'],\n",
       "   'ServiceAddress': '127.0.0.1',\n",
       "   'ServiceTaggedAddresses': {'lan_ipv4': {'Address': '127.0.0.1',\n",
       "     'Port': 5701},\n",
       "    'wan_ipv4': {'Address': '127.0.0.1', 'Port': 5701}},\n",
       "   'ServiceWeights': {'Passing': 1, 'Warning': 1},\n",
       "   'ServiceMeta': {},\n",
       "   'ServicePort': 5701,\n",
       "   'ServiceSocketPath': '',\n",
       "   'ServiceEnableTagOverride': False,\n",
       "   'ServiceProxy': {'Mode': '', 'MeshGateway': {}, 'Expose': {}},\n",
       "   'ServiceConnect': {},\n",
       "   'ServiceLocality': None,\n",
       "   'CreateIndex': 636,\n",
       "   'ModifyIndex': 636},\n",
       "  {'ID': 'eb219026-c808-0b4d-cb7f-ff0078789c29',\n",
       "   'Node': 'catalina.local',\n",
       "   'Address': '127.0.0.1',\n",
       "   'Datacenter': 'dc1',\n",
       "   'TaggedAddresses': {'lan': '127.0.0.1',\n",
       "    'lan_ipv4': '127.0.0.1',\n",
       "    'wan': '127.0.0.1',\n",
       "    'wan_ipv4': '127.0.0.1'},\n",
       "   'NodeMeta': {'consul-network-segment': '', 'consul-version': '1.19.0'},\n",
       "   'ServiceKind': '',\n",
       "   'ServiceID': 'logging-service-2',\n",
       "   'ServiceName': 'logging-service',\n",
       "   'ServiceTags': ['logging'],\n",
       "   'ServiceAddress': '127.0.0.1',\n",
       "   'ServiceTaggedAddresses': {'lan_ipv4': {'Address': '127.0.0.1',\n",
       "     'Port': 5702},\n",
       "    'wan_ipv4': {'Address': '127.0.0.1', 'Port': 5702}},\n",
       "   'ServiceWeights': {'Passing': 1, 'Warning': 1},\n",
       "   'ServiceMeta': {},\n",
       "   'ServicePort': 5702,\n",
       "   'ServiceSocketPath': '',\n",
       "   'ServiceEnableTagOverride': False,\n",
       "   'ServiceProxy': {'Mode': '', 'MeshGateway': {}, 'Expose': {}},\n",
       "   'ServiceConnect': {},\n",
       "   'ServiceLocality': None,\n",
       "   'CreateIndex': 637,\n",
       "   'ModifyIndex': 637},\n",
       "  {'ID': 'eb219026-c808-0b4d-cb7f-ff0078789c29',\n",
       "   'Node': 'catalina.local',\n",
       "   'Address': '127.0.0.1',\n",
       "   'Datacenter': 'dc1',\n",
       "   'TaggedAddresses': {'lan': '127.0.0.1',\n",
       "    'lan_ipv4': '127.0.0.1',\n",
       "    'wan': '127.0.0.1',\n",
       "    'wan_ipv4': '127.0.0.1'},\n",
       "   'NodeMeta': {'consul-network-segment': '', 'consul-version': '1.19.0'},\n",
       "   'ServiceKind': '',\n",
       "   'ServiceID': 'logging-service-3',\n",
       "   'ServiceName': 'logging-service',\n",
       "   'ServiceTags': ['logging'],\n",
       "   'ServiceAddress': '127.0.0.1',\n",
       "   'ServiceTaggedAddresses': {'lan_ipv4': {'Address': '127.0.0.1',\n",
       "     'Port': 5703},\n",
       "    'wan_ipv4': {'Address': '127.0.0.1', 'Port': 5703}},\n",
       "   'ServiceWeights': {'Passing': 1, 'Warning': 1},\n",
       "   'ServiceMeta': {},\n",
       "   'ServicePort': 5703,\n",
       "   'ServiceSocketPath': '',\n",
       "   'ServiceEnableTagOverride': False,\n",
       "   'ServiceProxy': {'Mode': '', 'MeshGateway': {}, 'Expose': {}},\n",
       "   'ServiceConnect': {},\n",
       "   'ServiceLocality': None,\n",
       "   'CreateIndex': 638,\n",
       "   'ModifyIndex': 638}])"
      ]
     },
     "execution_count": 23,
     "metadata": {},
     "output_type": "execute_result"
    }
   ],
   "source": [
    "consul_client.catalog.service('logging-service')"
   ]
  },
  {
   "cell_type": "code",
   "execution_count": 24,
   "metadata": {},
   "outputs": [],
   "source": [
    "#це було помилкою\n",
    "\n",
    "import requests\n",
    "\n",
    "def call_service(service_address, service_port, data):\n",
    "    url = f'http://{service_address}:{service_port}'\n",
    "    response = requests.post(url, json=data)\n",
    "    return response.json()\n"
   ]
  },
  {
   "cell_type": "code",
   "execution_count": 25,
   "metadata": {},
   "outputs": [],
   "source": [
    "\n",
    "test_data = {\"message\": \"Hello service\"}"
   ]
  },
  {
   "cell_type": "code",
   "execution_count": 31,
   "metadata": {},
   "outputs": [
    {
     "data": {
      "text/plain": [
       "('127.0.0.1', 5001)"
      ]
     },
     "execution_count": 31,
     "metadata": {},
     "output_type": "execute_result"
    }
   ],
   "source": [
    "get_service_address(\"messages-service\")"
   ]
  },
  {
   "cell_type": "code",
   "execution_count": 33,
   "metadata": {},
   "outputs": [
    {
     "name": "stdout",
     "output_type": "stream",
     "text": [
      "Service messages-service with port 5004 registered with Consul as messages-service-1 with health check\n"
     ]
    }
   ],
   "source": [
    "#і це теж було помилкою\n",
    "\n",
    "def register_service_with_health_check(service_name, service_id, service_address, ports, check_urls, interval='10s', tags=None):\n",
    "    consul_client = consul.Consul(host='localhost', port=8500)\n",
    "    for port, check_url in zip(ports, check_urls):\n",
    "        unique_service_id = f\"{service_id}\"\n",
    "        consul_client.agent.service.register(\n",
    "            name=service_name,\n",
    "            service_id=unique_service_id,\n",
    "            address=service_address,\n",
    "            port=port,\n",
    "            tags=tags or [],\n",
    "            check=consul.Check.http(check_url, interval=interval)\n",
    "        )\n",
    "        print(f'Service {service_name} with port {port} registered with Consul as {unique_service_id} with health check')\n",
    "\n",
    "register_service_with_health_check(\n",
    "    service_name='messages-service',\n",
    "    service_id='messages-service-1',\n",
    "    service_address='127.0.0.1',  \n",
    "    ports=[5004, 5005], \n",
    "    check_urls=[\n",
    "        'http://127.0.0.1:5000/combined-messages'\n",
    "    ],\n",
    "    interval='10s',\n",
    "    tags=['no']\n",
    ")"
   ]
  },
  {
   "cell_type": "code",
   "execution_count": 39,
   "metadata": {},
   "outputs": [
    {
     "data": {
      "text/plain": [
       "{'facade': {'ID': 'facade',\n",
       "  'Service': 'facade',\n",
       "  'Tags': [],\n",
       "  'Meta': {},\n",
       "  'Port': 0,\n",
       "  'Address': '',\n",
       "  'Weights': {'Passing': 1, 'Warning': 1},\n",
       "  'EnableTagOverride': False,\n",
       "  'Datacenter': 'dc1'},\n",
       " 'facade-service-1': {'ID': 'facade-service-1',\n",
       "  'Service': 'facade-service',\n",
       "  'Tags': ['web'],\n",
       "  'Meta': {},\n",
       "  'Port': 5000,\n",
       "  'Address': '127.0.0.1',\n",
       "  'TaggedAddresses': {'lan_ipv4': {'Address': '127.0.0.1', 'Port': 5000},\n",
       "   'wan_ipv4': {'Address': '127.0.0.1', 'Port': 5000}},\n",
       "  'Weights': {'Passing': 1, 'Warning': 1},\n",
       "  'EnableTagOverride': False,\n",
       "  'Datacenter': 'dc1'},\n",
       " 'logging-service-1': {'ID': 'logging-service-1',\n",
       "  'Service': 'logging-service',\n",
       "  'Tags': ['logging'],\n",
       "  'Meta': {},\n",
       "  'Port': 5701,\n",
       "  'Address': '127.0.0.1',\n",
       "  'TaggedAddresses': {'lan_ipv4': {'Address': '127.0.0.1', 'Port': 5701},\n",
       "   'wan_ipv4': {'Address': '127.0.0.1', 'Port': 5701}},\n",
       "  'Weights': {'Passing': 1, 'Warning': 1},\n",
       "  'EnableTagOverride': False,\n",
       "  'Datacenter': 'dc1'},\n",
       " 'logging-service-2': {'ID': 'logging-service-2',\n",
       "  'Service': 'logging-service',\n",
       "  'Tags': ['logging'],\n",
       "  'Meta': {},\n",
       "  'Port': 5702,\n",
       "  'Address': '127.0.0.1',\n",
       "  'TaggedAddresses': {'lan_ipv4': {'Address': '127.0.0.1', 'Port': 5702},\n",
       "   'wan_ipv4': {'Address': '127.0.0.1', 'Port': 5702}},\n",
       "  'Weights': {'Passing': 1, 'Warning': 1},\n",
       "  'EnableTagOverride': False,\n",
       "  'Datacenter': 'dc1'},\n",
       " 'logging-service-3': {'ID': 'logging-service-3',\n",
       "  'Service': 'logging-service',\n",
       "  'Tags': ['logging'],\n",
       "  'Meta': {},\n",
       "  'Port': 5703,\n",
       "  'Address': '127.0.0.1',\n",
       "  'TaggedAddresses': {'lan_ipv4': {'Address': '127.0.0.1', 'Port': 5703},\n",
       "   'wan_ipv4': {'Address': '127.0.0.1', 'Port': 5703}},\n",
       "  'Weights': {'Passing': 1, 'Warning': 1},\n",
       "  'EnableTagOverride': False,\n",
       "  'Datacenter': 'dc1'},\n",
       " 'messages-service-1': {'ID': 'messages-service-1',\n",
       "  'Service': 'messages-service',\n",
       "  'Tags': ['no'],\n",
       "  'Meta': {},\n",
       "  'Port': 5004,\n",
       "  'Address': '127.0.0.1',\n",
       "  'TaggedAddresses': {'lan_ipv4': {'Address': '127.0.0.1', 'Port': 5004},\n",
       "   'wan_ipv4': {'Address': '127.0.0.1', 'Port': 5004}},\n",
       "  'Weights': {'Passing': 1, 'Warning': 1},\n",
       "  'EnableTagOverride': False,\n",
       "  'Datacenter': 'dc1'},\n",
       " 'messages-service-2': {'ID': 'messages-service-2',\n",
       "  'Service': 'messages-service',\n",
       "  'Tags': ['messaging'],\n",
       "  'Meta': {},\n",
       "  'Port': 5002,\n",
       "  'Address': '127.0.0.1',\n",
       "  'TaggedAddresses': {'lan_ipv4': {'Address': '127.0.0.1', 'Port': 5002},\n",
       "   'wan_ipv4': {'Address': '127.0.0.1', 'Port': 5002}},\n",
       "  'Weights': {'Passing': 1, 'Warning': 1},\n",
       "  'EnableTagOverride': False,\n",
       "  'Datacenter': 'dc1'}}"
      ]
     },
     "execution_count": 39,
     "metadata": {},
     "output_type": "execute_result"
    }
   ],
   "source": [
    "def list_services():\n",
    "    consul_client = consul.Consul(host='localhost', port=8500)\n",
    "    services = consul_client.agent.services()\n",
    "    return services\n",
    "\n",
    "list_services()"
   ]
  },
  {
   "cell_type": "code",
   "execution_count": 36,
   "metadata": {},
   "outputs": [],
   "source": [
    "#дереєструємо помилково додані зайві сервіси \n",
    "\n",
    "\n",
    "def deregister_service(service_id):\n",
    "        consul_client.agent.service.deregister(service_id)"
   ]
  },
  {
   "cell_type": "code",
   "execution_count": 37,
   "metadata": {},
   "outputs": [],
   "source": [
    "deregister_service(\"messages-service-1-5004\")"
   ]
  },
  {
   "cell_type": "code",
   "execution_count": 38,
   "metadata": {},
   "outputs": [],
   "source": [
    "deregister_service(\"messages-service-1-5005\")"
   ]
  },
  {
   "cell_type": "code",
   "execution_count": 40,
   "metadata": {},
   "outputs": [],
   "source": [
    "deregister_service(\"messages-service-1\")"
   ]
  },
  {
   "cell_type": "code",
   "execution_count": null,
   "metadata": {},
   "outputs": [],
   "source": []
  },
  {
   "cell_type": "code",
   "execution_count": null,
   "metadata": {},
   "outputs": [],
   "source": []
  },
  {
   "cell_type": "code",
   "execution_count": null,
   "metadata": {},
   "outputs": [],
   "source": []
  }
 ],
 "metadata": {
  "kernelspec": {
   "display_name": "Python 3",
   "language": "python",
   "name": "python3"
  },
  "language_info": {
   "codemirror_mode": {
    "name": "ipython",
    "version": 3
   },
   "file_extension": ".py",
   "mimetype": "text/x-python",
   "name": "python",
   "nbconvert_exporter": "python",
   "pygments_lexer": "ipython3",
   "version": "3.12.3"
  }
 },
 "nbformat": 4,
 "nbformat_minor": 2
}
